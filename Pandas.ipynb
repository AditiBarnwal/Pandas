{
 "cells": [
  {
   "cell_type": "markdown",
   "id": "876fb127",
   "metadata": {},
   "source": [
    "# PANDAS"
   ]
  },
  {
   "cell_type": "markdown",
   "id": "685a0d6a",
   "metadata": {},
   "source": [
    "Pandas Series/Dataframe created by loading the datasets from existing storage, storage can be SQL Database, CSV file, an Excel file. \n",
    "\n",
    "Pandas Series/Dataframe can be created from the lists, dictionary, and from a scalar value etc.\n",
    "\n",
    "### Creating a Series"
   ]
  },
  {
   "cell_type": "code",
   "execution_count": 2,
   "id": "0ac5922e",
   "metadata": {},
   "outputs": [
    {
     "name": "stdout",
     "output_type": "stream",
     "text": [
      "Series([], dtype: float64)\n",
      "0    A\n",
      "1    r\n",
      "2    o\n",
      "3    s\n",
      "4    e\n",
      "dtype: object\n"
     ]
    },
    {
     "name": "stderr",
     "output_type": "stream",
     "text": [
      "<ipython-input-2-14f7427511b1>:6: DeprecationWarning: The default dtype for empty Series will be 'object' instead of 'float64' in a future version. Specify a dtype explicitly to silence this warning.\n",
      "  ser = pd.Series()\n"
     ]
    }
   ],
   "source": [
    "import pandas as pd\n",
    "import numpy as np\n",
    " \n",
    " \n",
    "# Creating empty series\n",
    "ser = pd.Series()\n",
    "   \n",
    "print(ser)\n",
    " \n",
    "# simple array\n",
    "data = np.array(['A', 'r', 'o', 's', 'e'])\n",
    "   \n",
    "ser = pd.Series(data)\n",
    "print(ser)"
   ]
  },
  {
   "cell_type": "markdown",
   "id": "a19c4940",
   "metadata": {},
   "source": [
    "### Creating a DataFrame:\n",
    " "
   ]
  },
  {
   "cell_type": "code",
   "execution_count": 5,
   "id": "7d9927d8",
   "metadata": {},
   "outputs": [
    {
     "name": "stdout",
     "output_type": "stream",
     "text": [
      "Empty DataFrame\n",
      "Columns: []\n",
      "Index: []\n",
      "        0\n",
      "0     Mai\n",
      "1      ja\n",
      "2    rahi\n",
      "3      hu\n",
      "4  portal\n",
      "5     use\n",
      "6   karne\n"
     ]
    }
   ],
   "source": [
    "import pandas as pd\n",
    "   \n",
    "# Calling DataFrame constructor\n",
    "df = pd.DataFrame()\n",
    "print(df)\n",
    " \n",
    "# list of strings\n",
    "lst = ['Mai', 'ja', 'rahi', 'hu', \n",
    "            'portal', 'use', 'karne']\n",
    "   \n",
    "# Calling DataFrame constructor on list\n",
    "df = pd.DataFrame(lst)\n",
    "print(df)"
   ]
  },
  {
   "cell_type": "markdown",
   "id": "9e364455",
   "metadata": {},
   "source": [
    "Method #0: Creating an Empty DataFrame"
   ]
  },
  {
   "cell_type": "code",
   "execution_count": 7,
   "id": "b2b0286f",
   "metadata": {},
   "outputs": [
    {
     "name": "stdout",
     "output_type": "stream",
     "text": [
      "Empty DataFrame\n",
      "Columns: []\n",
      "Index: []\n"
     ]
    }
   ],
   "source": [
    "# Creating Empty DataFrame and Storing it in variable df\n",
    "df = pd.DataFrame()\n",
    "  \n",
    "# Printing Empty DataFrame\n",
    "print(df)"
   ]
  },
  {
   "cell_type": "markdown",
   "id": "1972291e",
   "metadata": {},
   "source": [
    "Method #1: Creating  Dataframe from Lists"
   ]
  },
  {
   "cell_type": "code",
   "execution_count": 9,
   "id": "d3ed24a0",
   "metadata": {},
   "outputs": [
    {
     "data": {
      "text/html": [
       "<div>\n",
       "<style scoped>\n",
       "    .dataframe tbody tr th:only-of-type {\n",
       "        vertical-align: middle;\n",
       "    }\n",
       "\n",
       "    .dataframe tbody tr th {\n",
       "        vertical-align: top;\n",
       "    }\n",
       "\n",
       "    .dataframe thead th {\n",
       "        text-align: right;\n",
       "    }\n",
       "</style>\n",
       "<table border=\"1\" class=\"dataframe\">\n",
       "  <thead>\n",
       "    <tr style=\"text-align: right;\">\n",
       "      <th></th>\n",
       "      <th>Numbers</th>\n",
       "    </tr>\n",
       "  </thead>\n",
       "  <tbody>\n",
       "    <tr>\n",
       "      <th>0</th>\n",
       "      <td>10</td>\n",
       "    </tr>\n",
       "    <tr>\n",
       "      <th>1</th>\n",
       "      <td>20</td>\n",
       "    </tr>\n",
       "    <tr>\n",
       "      <th>2</th>\n",
       "      <td>30</td>\n",
       "    </tr>\n",
       "    <tr>\n",
       "      <th>3</th>\n",
       "      <td>40</td>\n",
       "    </tr>\n",
       "    <tr>\n",
       "      <th>4</th>\n",
       "      <td>50</td>\n",
       "    </tr>\n",
       "    <tr>\n",
       "      <th>5</th>\n",
       "      <td>60</td>\n",
       "    </tr>\n",
       "  </tbody>\n",
       "</table>\n",
       "</div>"
      ],
      "text/plain": [
       "   Numbers\n",
       "0       10\n",
       "1       20\n",
       "2       30\n",
       "3       40\n",
       "4       50\n",
       "5       60"
      ]
     },
     "execution_count": 9,
     "metadata": {},
     "output_type": "execute_result"
    }
   ],
   "source": [
    "# initialize list elements\n",
    "data = [10,20,30,40,50,60]\n",
    "  \n",
    "# Create the pandas DataFrame with column name is provided explicitly\n",
    "df = pd.DataFrame(data, columns=['Numbers'])\n",
    "  \n",
    "# print dataframe.\n",
    "df"
   ]
  },
  {
   "cell_type": "markdown",
   "id": "0b195d70",
   "metadata": {},
   "source": [
    "Method #2: Creating Pandas DataFrame from lists of lists."
   ]
  },
  {
   "cell_type": "code",
   "execution_count": 10,
   "id": "221703b6",
   "metadata": {},
   "outputs": [
    {
     "data": {
      "text/html": [
       "<div>\n",
       "<style scoped>\n",
       "    .dataframe tbody tr th:only-of-type {\n",
       "        vertical-align: middle;\n",
       "    }\n",
       "\n",
       "    .dataframe tbody tr th {\n",
       "        vertical-align: top;\n",
       "    }\n",
       "\n",
       "    .dataframe thead th {\n",
       "        text-align: right;\n",
       "    }\n",
       "</style>\n",
       "<table border=\"1\" class=\"dataframe\">\n",
       "  <thead>\n",
       "    <tr style=\"text-align: right;\">\n",
       "      <th></th>\n",
       "      <th>Name</th>\n",
       "      <th>Age</th>\n",
       "    </tr>\n",
       "  </thead>\n",
       "  <tbody>\n",
       "    <tr>\n",
       "      <th>0</th>\n",
       "      <td>tom</td>\n",
       "      <td>10</td>\n",
       "    </tr>\n",
       "    <tr>\n",
       "      <th>1</th>\n",
       "      <td>nick</td>\n",
       "      <td>15</td>\n",
       "    </tr>\n",
       "    <tr>\n",
       "      <th>2</th>\n",
       "      <td>juli</td>\n",
       "      <td>14</td>\n",
       "    </tr>\n",
       "  </tbody>\n",
       "</table>\n",
       "</div>"
      ],
      "text/plain": [
       "   Name  Age\n",
       "0   tom   10\n",
       "1  nick   15\n",
       "2  juli   14"
      ]
     },
     "execution_count": 10,
     "metadata": {},
     "output_type": "execute_result"
    }
   ],
   "source": [
    "# initialize list of lists\n",
    "data = [['tom', 10], ['nick', 15], ['juli', 14]]\n",
    "  \n",
    "# Create the pandas DataFrame\n",
    "df = pd.DataFrame(data, columns=['Name', 'Age'])\n",
    "  \n",
    "# print dataframe.\n",
    "df"
   ]
  },
  {
   "cell_type": "markdown",
   "id": "792f4dce",
   "metadata": {},
   "source": [
    "Method #3: Creating DataFrame from dict of narray/lists\n",
    "To create DataFrame from dict of narray/list, all the narray must be of same length. If index is passed then the length index should be equal to the length of arrays. If no index is passed, then by default, index will be range(n) where n is the array length."
   ]
  },
  {
   "cell_type": "code",
   "execution_count": 11,
   "id": "e5f245d6",
   "metadata": {},
   "outputs": [
    {
     "data": {
      "text/html": [
       "<div>\n",
       "<style scoped>\n",
       "    .dataframe tbody tr th:only-of-type {\n",
       "        vertical-align: middle;\n",
       "    }\n",
       "\n",
       "    .dataframe tbody tr th {\n",
       "        vertical-align: top;\n",
       "    }\n",
       "\n",
       "    .dataframe thead th {\n",
       "        text-align: right;\n",
       "    }\n",
       "</style>\n",
       "<table border=\"1\" class=\"dataframe\">\n",
       "  <thead>\n",
       "    <tr style=\"text-align: right;\">\n",
       "      <th></th>\n",
       "      <th>Name</th>\n",
       "      <th>Age</th>\n",
       "    </tr>\n",
       "  </thead>\n",
       "  <tbody>\n",
       "    <tr>\n",
       "      <th>0</th>\n",
       "      <td>Tom</td>\n",
       "      <td>20</td>\n",
       "    </tr>\n",
       "    <tr>\n",
       "      <th>1</th>\n",
       "      <td>nick</td>\n",
       "      <td>21</td>\n",
       "    </tr>\n",
       "    <tr>\n",
       "      <th>2</th>\n",
       "      <td>krish</td>\n",
       "      <td>19</td>\n",
       "    </tr>\n",
       "    <tr>\n",
       "      <th>3</th>\n",
       "      <td>jack</td>\n",
       "      <td>18</td>\n",
       "    </tr>\n",
       "  </tbody>\n",
       "</table>\n",
       "</div>"
      ],
      "text/plain": [
       "    Name  Age\n",
       "0    Tom   20\n",
       "1   nick   21\n",
       "2  krish   19\n",
       "3   jack   18"
      ]
     },
     "execution_count": 11,
     "metadata": {},
     "output_type": "execute_result"
    }
   ],
   "source": [
    "# initialize data of lists.\n",
    "data = {'Name': ['Tom', 'nick', 'krish', 'jack'],\n",
    "        'Age': [20, 21, 19, 18]}\n",
    "  \n",
    "# Create DataFrame\n",
    "df = pd.DataFrame(data)\n",
    "  \n",
    "# Print the output.\n",
    "df"
   ]
  },
  {
   "cell_type": "markdown",
   "id": "dec9a630",
   "metadata": {},
   "source": [
    "Method #4: Creating a DataFrame by proving index label explicitly."
   ]
  },
  {
   "cell_type": "code",
   "execution_count": 12,
   "id": "bfdb630a",
   "metadata": {},
   "outputs": [
    {
     "data": {
      "text/html": [
       "<div>\n",
       "<style scoped>\n",
       "    .dataframe tbody tr th:only-of-type {\n",
       "        vertical-align: middle;\n",
       "    }\n",
       "\n",
       "    .dataframe tbody tr th {\n",
       "        vertical-align: top;\n",
       "    }\n",
       "\n",
       "    .dataframe thead th {\n",
       "        text-align: right;\n",
       "    }\n",
       "</style>\n",
       "<table border=\"1\" class=\"dataframe\">\n",
       "  <thead>\n",
       "    <tr style=\"text-align: right;\">\n",
       "      <th></th>\n",
       "      <th>Name</th>\n",
       "      <th>marks</th>\n",
       "    </tr>\n",
       "  </thead>\n",
       "  <tbody>\n",
       "    <tr>\n",
       "      <th>rank1</th>\n",
       "      <td>Tom</td>\n",
       "      <td>99</td>\n",
       "    </tr>\n",
       "    <tr>\n",
       "      <th>rank2</th>\n",
       "      <td>Jack</td>\n",
       "      <td>98</td>\n",
       "    </tr>\n",
       "    <tr>\n",
       "      <th>rank3</th>\n",
       "      <td>nick</td>\n",
       "      <td>95</td>\n",
       "    </tr>\n",
       "    <tr>\n",
       "      <th>rank4</th>\n",
       "      <td>juli</td>\n",
       "      <td>90</td>\n",
       "    </tr>\n",
       "  </tbody>\n",
       "</table>\n",
       "</div>"
      ],
      "text/plain": [
       "       Name  marks\n",
       "rank1   Tom     99\n",
       "rank2  Jack     98\n",
       "rank3  nick     95\n",
       "rank4  juli     90"
      ]
     },
     "execution_count": 12,
     "metadata": {},
     "output_type": "execute_result"
    }
   ],
   "source": [
    "# initialize data of lists.\n",
    "data = {'Name': ['Tom', 'Jack', 'nick', 'juli'],\n",
    "        'marks': [99, 98, 95, 90]}\n",
    "  \n",
    "# Creates pandas DataFrame.\n",
    "df = pd.DataFrame(data, index=['rank1',\n",
    "                               'rank2',\n",
    "                               'rank3',\n",
    "                               'rank4'])\n",
    "  \n",
    "# print the data\n",
    "df"
   ]
  },
  {
   "cell_type": "markdown",
   "id": "6848c9bb",
   "metadata": {},
   "source": [
    "Method #5: Creating Dataframe from list of dicts\n",
    "\n",
    "Pandas DataFrame can be created by passing lists of dictionaries as a input data. By default dictionary keys will be taken as columns."
   ]
  },
  {
   "cell_type": "code",
   "execution_count": 13,
   "id": "0ca064bf",
   "metadata": {},
   "outputs": [
    {
     "data": {
      "text/html": [
       "<div>\n",
       "<style scoped>\n",
       "    .dataframe tbody tr th:only-of-type {\n",
       "        vertical-align: middle;\n",
       "    }\n",
       "\n",
       "    .dataframe tbody tr th {\n",
       "        vertical-align: top;\n",
       "    }\n",
       "\n",
       "    .dataframe thead th {\n",
       "        text-align: right;\n",
       "    }\n",
       "</style>\n",
       "<table border=\"1\" class=\"dataframe\">\n",
       "  <thead>\n",
       "    <tr style=\"text-align: right;\">\n",
       "      <th></th>\n",
       "      <th>a</th>\n",
       "      <th>b</th>\n",
       "      <th>c</th>\n",
       "    </tr>\n",
       "  </thead>\n",
       "  <tbody>\n",
       "    <tr>\n",
       "      <th>0</th>\n",
       "      <td>1</td>\n",
       "      <td>2</td>\n",
       "      <td>3</td>\n",
       "    </tr>\n",
       "    <tr>\n",
       "      <th>1</th>\n",
       "      <td>10</td>\n",
       "      <td>20</td>\n",
       "      <td>30</td>\n",
       "    </tr>\n",
       "  </tbody>\n",
       "</table>\n",
       "</div>"
      ],
      "text/plain": [
       "    a   b   c\n",
       "0   1   2   3\n",
       "1  10  20  30"
      ]
     },
     "execution_count": 13,
     "metadata": {},
     "output_type": "execute_result"
    }
   ],
   "source": [
    "# Initialize data to lists.\n",
    "data = [{'a': 1, 'b': 2, 'c': 3},\n",
    "        {'a': 10, 'b': 20, 'c': 30}]\n",
    "  \n",
    "# Creates DataFrame.\n",
    "df = pd.DataFrame(data)\n",
    "  \n",
    "# Print the data\n",
    "df"
   ]
  },
  {
   "cell_type": "markdown",
   "id": "31a2a846",
   "metadata": {},
   "source": [
    "create pandas DataFrame from lists of dictionaries with both row index as well as column index."
   ]
  },
  {
   "cell_type": "code",
   "execution_count": 14,
   "id": "43ddea38",
   "metadata": {},
   "outputs": [
    {
     "name": "stdout",
     "output_type": "stream",
     "text": [
      "        a   b\n",
      "first   1   2\n",
      "second  5  10 \n",
      "\n",
      "        a  b1\n",
      "first   1 NaN\n",
      "second  5 NaN\n"
     ]
    }
   ],
   "source": [
    "# Initialize lists data.\n",
    "data = [{'a': 1, 'b': 2},\n",
    "        {'a': 5, 'b': 10, 'c': 20}]\n",
    "  \n",
    "# With two column indices, values same\n",
    "# as dictionary keys\n",
    "df1 = pd.DataFrame(data, index=['first',\n",
    "                                'second'],\n",
    "                   columns=['a', 'b'])\n",
    "  \n",
    "# With two column indices with\n",
    "# one index with other name\n",
    "df2 = pd.DataFrame(data, index=['first',\n",
    "                                'second'],\n",
    "                   columns=['a', 'b1'])\n",
    "  \n",
    "# print for first data frame\n",
    "print(df1, \"\\n\")\n",
    "  \n",
    "# Print for second DataFrame.\n",
    "print(df2)"
   ]
  },
  {
   "cell_type": "markdown",
   "id": "61f5aa7b",
   "metadata": {},
   "source": [
    "Method #6: Creating DataFrame using zip() function.\n",
    "\n",
    "Two lists can be merged by using list(zip()) function. Now, create the pandas DataFrame by calling pd.DataFrame() function."
   ]
  },
  {
   "cell_type": "code",
   "execution_count": 15,
   "id": "eaee9d46",
   "metadata": {},
   "outputs": [
    {
     "data": {
      "text/html": [
       "<div>\n",
       "<style scoped>\n",
       "    .dataframe tbody tr th:only-of-type {\n",
       "        vertical-align: middle;\n",
       "    }\n",
       "\n",
       "    .dataframe tbody tr th {\n",
       "        vertical-align: top;\n",
       "    }\n",
       "\n",
       "    .dataframe thead th {\n",
       "        text-align: right;\n",
       "    }\n",
       "</style>\n",
       "<table border=\"1\" class=\"dataframe\">\n",
       "  <thead>\n",
       "    <tr style=\"text-align: right;\">\n",
       "      <th></th>\n",
       "      <th>Name</th>\n",
       "      <th>Age</th>\n",
       "    </tr>\n",
       "  </thead>\n",
       "  <tbody>\n",
       "    <tr>\n",
       "      <th>0</th>\n",
       "      <td>tom</td>\n",
       "      <td>25</td>\n",
       "    </tr>\n",
       "    <tr>\n",
       "      <th>1</th>\n",
       "      <td>krish</td>\n",
       "      <td>30</td>\n",
       "    </tr>\n",
       "    <tr>\n",
       "      <th>2</th>\n",
       "      <td>nick</td>\n",
       "      <td>26</td>\n",
       "    </tr>\n",
       "    <tr>\n",
       "      <th>3</th>\n",
       "      <td>juli</td>\n",
       "      <td>22</td>\n",
       "    </tr>\n",
       "  </tbody>\n",
       "</table>\n",
       "</div>"
      ],
      "text/plain": [
       "    Name  Age\n",
       "0    tom   25\n",
       "1  krish   30\n",
       "2   nick   26\n",
       "3   juli   22"
      ]
     },
     "execution_count": 15,
     "metadata": {},
     "output_type": "execute_result"
    }
   ],
   "source": [
    "# List1\n",
    "Name = ['tom', 'krish', 'nick', 'juli']\n",
    "  \n",
    "# List2\n",
    "Age = [25, 30, 26, 22]\n",
    "  \n",
    "# get the list of tuples from two lists.\n",
    "# and merge them by using zip().\n",
    "list_of_tuples = list(zip(Name, Age))\n",
    "  \n",
    "# Assign data to tuples.\n",
    "list_of_tuples\n",
    "  \n",
    "  \n",
    "# Converting lists of tuples into\n",
    "# pandas Dataframe.\n",
    "df = pd.DataFrame(list_of_tuples,\n",
    "                  columns=['Name', 'Age'])\n",
    "  \n",
    "# Print data.\n",
    "df"
   ]
  },
  {
   "cell_type": "markdown",
   "id": "842ee0ff",
   "metadata": {},
   "source": [
    "Method#7:  Creating dataframe from series\n",
    "\n",
    "To create a dataframe from series, we must pass series as argument to DataFrame() function."
   ]
  },
  {
   "cell_type": "code",
   "execution_count": 16,
   "id": "9c45d408",
   "metadata": {},
   "outputs": [
    {
     "data": {
      "text/html": [
       "<div>\n",
       "<style scoped>\n",
       "    .dataframe tbody tr th:only-of-type {\n",
       "        vertical-align: middle;\n",
       "    }\n",
       "\n",
       "    .dataframe tbody tr th {\n",
       "        vertical-align: top;\n",
       "    }\n",
       "\n",
       "    .dataframe thead th {\n",
       "        text-align: right;\n",
       "    }\n",
       "</style>\n",
       "<table border=\"1\" class=\"dataframe\">\n",
       "  <thead>\n",
       "    <tr style=\"text-align: right;\">\n",
       "      <th></th>\n",
       "      <th>0</th>\n",
       "    </tr>\n",
       "  </thead>\n",
       "  <tbody>\n",
       "    <tr>\n",
       "      <th>0</th>\n",
       "      <td>10</td>\n",
       "    </tr>\n",
       "    <tr>\n",
       "      <th>1</th>\n",
       "      <td>20</td>\n",
       "    </tr>\n",
       "    <tr>\n",
       "      <th>2</th>\n",
       "      <td>30</td>\n",
       "    </tr>\n",
       "    <tr>\n",
       "      <th>3</th>\n",
       "      <td>40</td>\n",
       "    </tr>\n",
       "  </tbody>\n",
       "</table>\n",
       "</div>"
      ],
      "text/plain": [
       "    0\n",
       "0  10\n",
       "1  20\n",
       "2  30\n",
       "3  40"
      ]
     },
     "execution_count": 16,
     "metadata": {},
     "output_type": "execute_result"
    }
   ],
   "source": [
    "# Initialize data to series.\n",
    "d =  pd.Series([10, 20, 30, 40])\n",
    "# creates Dataframe.\n",
    "df = pd.DataFrame(d)\n",
    "  \n",
    "# print the data.\n",
    "df"
   ]
  },
  {
   "cell_type": "markdown",
   "id": "a350de3e",
   "metadata": {},
   "source": [
    "Method #8: Creating DataFrame from Dictionary of series.\n",
    "\n",
    "To create DataFrame from Dict of series, dictionary can be passed to form a DataFrame. The resultant index is the union of all the series of passed indexed.\n",
    " "
   ]
  },
  {
   "cell_type": "code",
   "execution_count": 17,
   "id": "26332d84",
   "metadata": {},
   "outputs": [
    {
     "data": {
      "text/html": [
       "<div>\n",
       "<style scoped>\n",
       "    .dataframe tbody tr th:only-of-type {\n",
       "        vertical-align: middle;\n",
       "    }\n",
       "\n",
       "    .dataframe tbody tr th {\n",
       "        vertical-align: top;\n",
       "    }\n",
       "\n",
       "    .dataframe thead th {\n",
       "        text-align: right;\n",
       "    }\n",
       "</style>\n",
       "<table border=\"1\" class=\"dataframe\">\n",
       "  <thead>\n",
       "    <tr style=\"text-align: right;\">\n",
       "      <th></th>\n",
       "      <th>one</th>\n",
       "      <th>two</th>\n",
       "    </tr>\n",
       "  </thead>\n",
       "  <tbody>\n",
       "    <tr>\n",
       "      <th>a</th>\n",
       "      <td>10</td>\n",
       "      <td>10</td>\n",
       "    </tr>\n",
       "    <tr>\n",
       "      <th>b</th>\n",
       "      <td>20</td>\n",
       "      <td>20</td>\n",
       "    </tr>\n",
       "    <tr>\n",
       "      <th>c</th>\n",
       "      <td>30</td>\n",
       "      <td>30</td>\n",
       "    </tr>\n",
       "    <tr>\n",
       "      <th>d</th>\n",
       "      <td>40</td>\n",
       "      <td>40</td>\n",
       "    </tr>\n",
       "  </tbody>\n",
       "</table>\n",
       "</div>"
      ],
      "text/plain": [
       "   one  two\n",
       "a   10   10\n",
       "b   20   20\n",
       "c   30   30\n",
       "d   40   40"
      ]
     },
     "execution_count": 17,
     "metadata": {},
     "output_type": "execute_result"
    }
   ],
   "source": [
    "# Initialize data to Dicts of series.\n",
    "d = {'one': pd.Series([10, 20, 30, 40],\n",
    "                      index=['a', 'b', 'c', 'd']),\n",
    "     'two': pd.Series([10, 20, 30, 40],\n",
    "                      index=['a', 'b', 'c', 'd'])}\n",
    "  \n",
    "# creates Dataframe.\n",
    "df = pd.DataFrame(d)\n",
    "  \n",
    "# print the data.\n",
    "df"
   ]
  },
  {
   "cell_type": "markdown",
   "id": "f4297aa6",
   "metadata": {},
   "source": [
    "## Series\n",
    "\n",
    "Creating a series from array: In order to create a series from array, we have to import a numpy module and have to use array() function.\n",
    "\n"
   ]
  },
  {
   "cell_type": "code",
   "execution_count": 18,
   "id": "556ed751",
   "metadata": {},
   "outputs": [
    {
     "name": "stdout",
     "output_type": "stream",
     "text": [
      "0    j\n",
      "1    e\n",
      "2    r\n",
      "3    k\n",
      "4    s\n",
      "dtype: object\n"
     ]
    }
   ],
   "source": [
    "import pandas as pd\n",
    " \n",
    "# import numpy as np\n",
    "import numpy as np\n",
    " \n",
    "# simple array\n",
    "data = np.array(['j','e','r','k','s'])\n",
    " \n",
    "ser = pd.Series(data)\n",
    "print(ser)"
   ]
  },
  {
   "cell_type": "markdown",
   "id": "9ef7a52f",
   "metadata": {},
   "source": [
    "Accessing element of Series\n",
    "There are two ways through which we can access element of series, they are :\n",
    "\n",
    "Accessing Element from Series with Position\n",
    "Accessing Element Using Label (index)\n",
    "Accessing Element from Series with Position : In order to access the series element refers to the index number. Use the index operator [ ] to access an element in a series. The index must be an integer. In order to access multiple elements from a series, we use Slice operation."
   ]
  },
  {
   "cell_type": "code",
   "execution_count": 19,
   "id": "50a92669",
   "metadata": {},
   "outputs": [
    {
     "name": "stdout",
     "output_type": "stream",
     "text": [
      "0    j\n",
      "1    e\n",
      "2    r\n",
      "3    k\n",
      "4    s\n",
      "dtype: object\n"
     ]
    }
   ],
   "source": [
    "data = np.array(['j','e','r','k','s','f', 'o','r','m','e'])\n",
    "ser = pd.Series(data)\n",
    "  \n",
    "  \n",
    "#retrieve the first element\n",
    "print(ser[:5])"
   ]
  },
  {
   "cell_type": "markdown",
   "id": "115c1682",
   "metadata": {},
   "source": [
    "Accessing Element Using Label (index) :\n",
    "In order to access an element from series, we have to set values by index label. A Series is like a fixed-size dictionary in that you can get and set values by index label.\n",
    "\n",
    "Accessing a single element using index label"
   ]
  },
  {
   "cell_type": "code",
   "execution_count": 22,
   "id": "d492369f",
   "metadata": {},
   "outputs": [
    {
     "name": "stdout",
     "output_type": "stream",
     "text": [
      "o\n"
     ]
    }
   ],
   "source": [
    "data = np.array(['j','e','r','k','s','f', 'o','r','m','e'])\n",
    "ser = pd.Series(data,index=[10,11,12,13,14,15,16,17,18,19])\n",
    "  \n",
    "  \n",
    "# accessing a element using index element\n",
    "print(ser[16])"
   ]
  },
  {
   "cell_type": "markdown",
   "id": "2c3618f0",
   "metadata": {},
   "source": [
    "Indexing and Selecting Data in Series\n",
    "Indexing in pandas means simply selecting particular data from a Series. Indexing could mean selecting all the data, some of the data from particular columns. Indexing can also be known as Subset Selection.\n",
    "\n",
    "Indexing a Series using indexing operator [] :\n",
    "Indexing operator is used to refer to the square brackets following an object. The .loc and .iloc indexers also use the indexing operator to make selections. In this indexing operator to refer to df[ ]."
   ]
  },
  {
   "cell_type": "code",
   "execution_count": null,
   "id": "bea50e87",
   "metadata": {},
   "outputs": [],
   "source": []
  },
  {
   "cell_type": "markdown",
   "id": "f393fdcd",
   "metadata": {},
   "source": [
    "Binary Operation on Series\n",
    "\n",
    "We can perform binary operation on series like addition, subtraction and many other operation. In order to perform binary operation on series we have to use some function like .add(),.sub() etc.."
   ]
  },
  {
   "cell_type": "markdown",
   "id": "d35206e2",
   "metadata": {},
   "source": [
    "Conversion Operation on Series\n",
    "\n",
    "In conversion operation we perform various operation like changing datatype of series, changing a series to list etc. In order to perform conversion operation we have various function which help in conversion like .astype(), .tolist() etc."
   ]
  },
  {
   "cell_type": "markdown",
   "id": "0fa62a44",
   "metadata": {},
   "source": [
    "#### Python program using astype\n",
    "#### to convert a datatype of series\n",
    " \n",
    "#### importing pandas module  \n",
    "import pandas as pd \n",
    "   \n",
    "#### reading csv file from url  \n",
    "data = pd.read_csv(\"filename.csv\") \n",
    "    \n",
    "#### dropping null value columns to avoid errors \n",
    "data.dropna(inplace = True) \n",
    "   \n",
    "#### storing dtype before converting \n",
    "before = data.dtypes \n",
    "   \n",
    "#### converting dtypes using astype \n",
    "data[\"Salary\"]= data[\"Salary\"].astype(int) \n",
    "data[\"Number\"]= data[\"Number\"].astype(str) \n",
    "   \n",
    "#### storing dtype after converting \n",
    "after = data.dtypes \n",
    "   \n",
    "#### printing to compare \n",
    "print(\"BEFORE CONVERSION\\n\", before, \"\\n\") \n",
    "print(\"AFTER CONVERSION\\n\", after, \"\\n\") "
   ]
  },
  {
   "cell_type": "code",
   "execution_count": null,
   "id": "c52fd7d1",
   "metadata": {},
   "outputs": [],
   "source": []
  },
  {
   "cell_type": "code",
   "execution_count": null,
   "id": "472713f7",
   "metadata": {},
   "outputs": [],
   "source": []
  },
  {
   "cell_type": "markdown",
   "id": "d15ae67b",
   "metadata": {},
   "source": [
    "Convert DataFrame to Numpy Array"
   ]
  },
  {
   "cell_type": "code",
   "execution_count": 24,
   "id": "9afe33d5",
   "metadata": {},
   "outputs": [
    {
     "name": "stdout",
     "output_type": "stream",
     "text": [
      "\n",
      "Numpy Array\n",
      "----------\n",
      " [[ 1  2  3]\n",
      " [ 4  5  6]\n",
      " [ 7  8  9]\n",
      " [10 11 12]]\n",
      "<class 'numpy.ndarray'>\n"
     ]
    }
   ],
   "source": [
    "# initialize a dataframe\n",
    "df = pd.DataFrame(\n",
    "    [[1, 2, 3],\n",
    "     [4, 5, 6],\n",
    "     [7, 8, 9],\n",
    "     [10, 11, 12]],\n",
    "    columns=['a', 'b', 'c'])\n",
    " \n",
    "# convert dataframe to numpy array\n",
    "arr = df.to_numpy()\n",
    " \n",
    "print('\\nNumpy Array\\n----------\\n', arr)\n",
    "print(type(arr))"
   ]
  },
  {
   "cell_type": "markdown",
   "id": "8e35d4e2",
   "metadata": {},
   "source": [
    "Example #1: Use Series.as_matrix() function to return the numpy-array representation of the given series object."
   ]
  },
  {
   "cell_type": "code",
   "execution_count": 29,
   "id": "8bcd6b28",
   "metadata": {},
   "outputs": [
    {
     "name": "stdout",
     "output_type": "stream",
     "text": [
      "City 1    New York\n",
      "City 2     Chicago\n",
      "City 3     Toronto\n",
      "City 4      Lisbon\n",
      "City 5         Rio\n",
      "dtype: object\n"
     ]
    }
   ],
   "source": [
    "# Creating the Series\n",
    "sr = pd.Series(['New York', 'Chicago', 'Toronto', 'Lisbon', 'Rio'])\n",
    "  \n",
    "# Create the Index\n",
    "index_ = ['City 1', 'City 2', 'City 3', 'City 4', 'City 5'] \n",
    "  \n",
    "# set the index\n",
    "sr.index = index_\n",
    "  \n",
    "# Print the series\n",
    "print(sr)"
   ]
  },
  {
   "cell_type": "markdown",
   "id": "3c4b321a",
   "metadata": {},
   "source": [
    "use Series.as_matrix() function to return the numpy array representation of the given series object."
   ]
  },
  {
   "cell_type": "markdown",
   "id": "a65bcaa0",
   "metadata": {},
   "source": [
    "Example passes a function and checks the value of each element in series and returns low, normal or High accordingly."
   ]
  },
  {
   "cell_type": "markdown",
   "id": "c6c61df3",
   "metadata": {},
   "source": [
    "import pandas as pd\n",
    "  \n",
    "##### reading csv\n",
    "s = pd.read_csv(\"file_name.csv\", squeeze = True)\n",
    "  \n",
    "#### defining function to check price\n",
    "def fun(num):\n",
    "  \n",
    "    if num<200:\n",
    "        return \"Low\"\n",
    "  \n",
    "    elif num>= 200 and num<400:\n",
    "        return \"Normal\"\n",
    "  \n",
    "    else:\n",
    "        return \"High\"\n",
    "  \n",
    "##### passing function to apply and storing returned series in new\n",
    "new = s.apply(fun)\n",
    "  \n",
    "##### printing first 3 element\n",
    "print(new.head(3))\n",
    "  \n",
    "##### printing elements somewhere near the middle of series\n",
    "print(new[1400], new[1500], new[1600])\n",
    "  \n",
    "##### printing last 3 elements\n",
    "print(new.tail(3))"
   ]
  },
  {
   "cell_type": "markdown",
   "id": "e8f48974",
   "metadata": {},
   "source": []
  }
 ],
 "metadata": {
  "kernelspec": {
   "display_name": "Python 3",
   "language": "python",
   "name": "python3"
  },
  "language_info": {
   "codemirror_mode": {
    "name": "ipython",
    "version": 3
   },
   "file_extension": ".py",
   "mimetype": "text/x-python",
   "name": "python",
   "nbconvert_exporter": "python",
   "pygments_lexer": "ipython3",
   "version": "3.8.8"
  }
 },
 "nbformat": 4,
 "nbformat_minor": 5
}
